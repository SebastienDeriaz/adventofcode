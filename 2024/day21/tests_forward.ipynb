{
 "cells": [
  {
   "cell_type": "code",
   "execution_count": 2,
   "metadata": {},
   "outputs": [],
   "source": [
    "import numpy as np\n",
    "import yaml\n",
    "from simulator import simulate\n",
    "\n",
    "with open('examples.yaml') as f:\n",
    "    examples = yaml.load(f, Loader=yaml.CLoader)"
   ]
  },
  {
   "cell_type": "code",
   "execution_count": 11,
   "metadata": {},
   "outputs": [],
   "source": [
    "def print_align_As(x1 : str, x2 : str):\n",
    "    x1l = x1.split('A')\n",
    "    x2l = x2.split('A')\n",
    "    x1out = []\n",
    "    x2out = []\n",
    "    for i in range(max(len(x1l), len(x2l))):\n",
    "        if i >= len(x1l):\n",
    "            x1s = ' '*len(x2l[i])\n",
    "        else:\n",
    "            x1s = x1l[i]\n",
    "        if i >= len(x2l):\n",
    "            x2s = ' '*len(x1l[i])\n",
    "        else:\n",
    "            x2s = x2l[i]\n",
    "\n",
    "        if len(x1s) < len(x2s):\n",
    "            x1s += ' '*(len(x2s) - len(x1s))\n",
    "        if len(x2s) < len(x1s):\n",
    "            x2s += ' '*(len(x1s) - len(x2s))\n",
    "\n",
    "        x1out.append(x1s)\n",
    "        x2out.append(x2s)\n",
    "\n",
    "    print('A'.join(x1out))\n",
    "    print('A'.join(x2out))"
   ]
  },
  {
   "cell_type": "code",
   "execution_count": 3,
   "metadata": {},
   "outputs": [],
   "source": [
    "PRESS = 'A'\n",
    "LEFT = '<'\n",
    "RIGHT = '>'\n",
    "UP = '^'\n",
    "DOWN = 'v'\n",
    "\n",
    "NUMERIC_KEYPAD = {\n",
    "    PRESS : (2, 0),\n",
    "    '0' : (1, 0),\n",
    "    '1' : (0, 1),\n",
    "    '2' : (1, 1),\n",
    "    '3' : (2, 1),\n",
    "    '4' : (0, 2),\n",
    "    '5' : (1, 2),\n",
    "    '6' : (2, 2),\n",
    "    '7' : (0, 3),\n",
    "    '8' : (1, 3),\n",
    "    '9' : (2, 3)\n",
    "}\n",
    "\n",
    "DIRECTIONAL_KEYPAD = {\n",
    "    LEFT : (0,0),\n",
    "    DOWN : (1,0),\n",
    "    RIGHT : (2,0),\n",
    "    UP : (1,1),\n",
    "    PRESS : (2, 1)\n",
    "}\n",
    "\n",
    "DIRECTIONAL_KEYPAD_ACTIONS = {\n",
    "    LEFT : (-1, 0),\n",
    "    RIGHT : (1, 0),\n",
    "    UP : (0, 1),\n",
    "    DOWN : (0, -1)\n",
    "}"
   ]
  },
  {
   "cell_type": "code",
   "execution_count": 9,
   "metadata": {},
   "outputs": [],
   "source": [
    "def sequence(input_sequence, numeric : bool = False):\n",
    "    keypad = NUMERIC_KEYPAD if numeric else DIRECTIONAL_KEYPAD\n",
    "    p = np.array(keypad[PRESS])\n",
    "    actions = ''\n",
    "    for i, s in enumerate(input_sequence):\n",
    "        next_p = np.array(keypad[s])\n",
    "        v = next_p - p\n",
    "        x, y = v\n",
    "\n",
    "        left_right = (LEFT*(-x) if x < 0 else RIGHT*x)\n",
    "        up_down = (DOWN*(-y) if y < 0 else UP*y)\n",
    "\n",
    "        left_right_first = not (len(left_right) > len(up_down))\n",
    "\n",
    "        if left_right_first:\n",
    "            actions += left_right + up_down\n",
    "        else:\n",
    "            actions += up_down + left_right\n",
    "\n",
    "        actions += PRESS\n",
    "\n",
    "        p = next_p\n",
    "\n",
    "    return actions"
   ]
  },
  {
   "cell_type": "code",
   "execution_count": 20,
   "metadata": {},
   "outputs": [
    {
     "name": "stdout",
     "output_type": "stream",
     "text": [
      "456A\n",
      "A : ⚠\n",
      "^^<<A>A>AvvA\n",
      "<<^^A>A>AvvA\n",
      "B : ⚠\n",
      "<  AAv<AA>>^AvA^AvA^A<vAA>^A\n",
      "v<<AA>^AA>  AvA^AvA^A<vAA>^A\n",
      "C : ❌\n",
      "<v<A>>^AA<v A<A>>^A  AvAA<^A>A<vA>^A<A>A<vA>^A<A>A<v<A>A>^AAvA<^A>A\n",
      "<v A<  AA^>>A Av  A<^A>AAv A^A<vA>^A<A>A<vA>^A<A>Av<<A>A>^AAvA<^A>A\n"
     ]
    }
   ],
   "source": [
    "def sequence_compare(x1, x2):\n",
    "    if x1 == x2:\n",
    "        return '✅'\n",
    "    elif len(x1) == len(x2):\n",
    "        return '⚠'\n",
    "    else:\n",
    "        return '❌'\n",
    "\n",
    "PRINT_ON = '❌' + '⚠' + '✅'\n",
    "\n",
    "for s in examples:\n",
    "    if s != '456A':\n",
    "        continue\n",
    "    print(s)\n",
    "    A1 = examples[s][0]\n",
    "    A2 = sequence(s, True)\n",
    "    result = sequence_compare(A1, A2)\n",
    "    print(f'A : {result}')\n",
    "    if result in PRINT_ON:\n",
    "        print_align_As(A1, A2)\n",
    "    B1 = examples[s][1]\n",
    "    B2 = sequence(A2)\n",
    "    result = sequence_compare(B1, B2)\n",
    "    print(f'B : {result}')\n",
    "    if result in PRINT_ON:\n",
    "        print_align_As(B1, B2)\n",
    "    C1 = examples[s][2]\n",
    "    C2 = sequence(B2)\n",
    "    result = sequence_compare(C1, C2)\n",
    "    print(f'C : {result}')\n",
    "    if result in PRINT_ON:\n",
    "        print_align_As(C1, C2)\n",
    "        # print(C1)\n",
    "        # print(C2)\n",
    "\n",
    "    #print(simulate(C2))"
   ]
  }
 ],
 "metadata": {
  "kernelspec": {
   "display_name": "Python 3.10.8 ('python')",
   "language": "python",
   "name": "python3"
  },
  "language_info": {
   "codemirror_mode": {
    "name": "ipython",
    "version": 3
   },
   "file_extension": ".py",
   "mimetype": "text/x-python",
   "name": "python",
   "nbconvert_exporter": "python",
   "pygments_lexer": "ipython3",
   "version": "3.11.3"
  },
  "orig_nbformat": 4,
  "vscode": {
   "interpreter": {
    "hash": "b19039b57ab408a75ec292626f0bb4d90d49370d48dc224113c676678d72d8bd"
   }
  }
 },
 "nbformat": 4,
 "nbformat_minor": 2
}
